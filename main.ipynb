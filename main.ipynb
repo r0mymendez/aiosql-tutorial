{
 "cells": [
  {
   "cell_type": "markdown",
   "metadata": {},
   "source": [
    "# ⚙️ What is aiosql library?\n",
    "\n",
    "Aiosql is a Python library that simplifies the writing of SQL queries in separate files from your main Python project code. These queries, stored in SQL files, are then transformed into methods within a Python object. \n",
    "Another notable feature of Aiosql is its ability to generate dynamic methods that accept parameters, enabling flexible query execution and effective interaction with the underlying database. This separation of SQL queries from the main Python code promotes cleaner and more modular code, enhancing project readability and maintainability\n",
    "\n",
    "\n",
    "<center>\n",
    "\n",
    "![aiosql-feature](img/aiosql-0.png)\n",
    "\n",
    "</center>\n",
    "\n",
    "# ⚙️ Key Features of Aiosql Library\n",
    "\n",
    "Below, I will share a series of features that this library already has or can have based on its usage:\n",
    "* Provides **CRUD functionality** (Create: Insert, Read: Select, Update , Delete) for database operations.\n",
    "* **Separates Python code** from SQL code, making it easier to locate queries within projects with multiple databases.\n",
    "* Each query can be assigned a **descriptive name and docstring**, similar to Python functions, enabling documentation of the query.\n",
    "* Facilitates the creation of **a query catalog** within the project, aiding in identification based on entities, databases, or other grouping criteria.\n",
    "* Enables easy generation of **dynamic queries** with the ability to pass dynamic values and modify them as needed.\n",
    "\n",
    "<center>\n",
    "\n",
    "![aiosql-feature](img/aiosql-1.png)\n",
    "\n",
    "</center>\n",
    "\n",
    "---\n",
    "\n",
    "# ⚙️ Aiosql Tutorial\n",
    "\n",
    "## 🔧 Prerequisites\n",
    "* 🐳 Docker\n",
    "* 🐙 Docker Compose\n",
    "* 🐍 Install python libraries: !pip install aiosql pandas \n",
    "\n",
    "## 🚀 Quick Start\n",
    "\n",
    "### 🛠️Create a postgres database\n",
    "* 1️⃣ - **Create postgres database** → Execute in the terminal: `docker-compose -f docker-compose.yml up --build`\n",
    "* 2️⃣ - **Check if your container is running** → Execute in the terminal: `docker ps`\n",
    "* 3️⃣ - **Load the csv files** → Execute the following command for load the csv file in the container: `python3 etl.py`\n",
    "  \n",
    "### 🏥 Hospital Data\n",
    "To implement aiosql, we will use the dataset from Synthea, which simulates a hospital database. These synthetic data are generated from a simulation considering various variables of a population in Massachusetts. \n",
    "From this dataset, we will use the tables: `conditions`, `encounters`, and `patients`. \n",
    "\n",
    "### 👥 User stories\n",
    "To make this example more real we are going to make 3 use cases:\n",
    "* 1️⃣ - As a **data analyst**, I want to be able to retrieve a list of patients whose visit count is above the 90th percentile, so that I can identify the most active patients in the clinic. Additionally, I want this percentile to be configurable for easy adjustment in the future.\n",
    "* 2️⃣ - As a **researcher or data analyst**, I want to access the data of patients who have been diagnosed with the 10 most frequent diagnoses in a period of time, in order to analyze trends and improve the quality of medical care.\n",
    "* 3️⃣ - As a **marketing analyst**, I want to create a table for patient satisfaction surveys, so that I can gather feedback on the quality of care and take measures to improve it.\n",
    "\n",
    "### Implementation\n",
    "Based on the user stories that we are going to create, we will define two files in which we will load the queries and scripts that we need to execute:\n",
    "* **patients.sql**: where we have all the queries related to recovering patient data.\n",
    "* **visits.sql**: where we have all the queries related to visits, such as surveys.\n",
    "\n",
    "Therefore in our project we are going to have this structure of folders and files\n",
    "```bash\n",
    "- 📁 db\n",
    "\t- 📁 queries\n",
    "\t\t- 📄 patients.sql\n",
    "\t\t- 📄 visits.sql\n",
    "- 📄 main.ipynb\n",
    "```\n",
    "\n",
    "---\n",
    "\n",
    "In this way we are isolating the python code from the sql code, in our case we are going to implement this **🐍python code** in a notebook in such a way as to make its explanation easier.\n",
    "\n",
    "---\n",
    "\n"
   ]
  },
  {
   "cell_type": "markdown",
   "metadata": {},
   "source": [
    "1. Import python libraries "
   ]
  },
  {
   "cell_type": "code",
   "execution_count": 104,
   "metadata": {},
   "outputs": [],
   "source": [
    "import aiosql\n",
    "import psycopg2\n",
    "import pandas as pd"
   ]
  },
  {
   "cell_type": "markdown",
   "metadata": {},
   "source": [
    "2. Import the SQL queries and configure the database driver\n",
    "\n",
    "    > In this project, the SQL queries are located in the **'db/queries'** directory and **'psycopg2'** is the PostgreSQL database adapter."
   ]
  },
  {
   "cell_type": "code",
   "execution_count": 232,
   "metadata": {},
   "outputs": [],
   "source": [
    "sql = aiosql.from_path('src/db/queries', 'psycopg2')"
   ]
  },
  {
   "cell_type": "markdown",
   "metadata": {},
   "source": [
    "3. Create the connection to the PostgreSQL database."
   ]
  },
  {
   "cell_type": "code",
   "execution_count": null,
   "metadata": {},
   "outputs": [],
   "source": [
    "postgres_secrets = {'host': 'localhost','port': 5432, 'user': 'postgres', 'password': 'postgres', 'dbname': 'postgres'}\n",
    "conn = psycopg2.connect(**postgres_secrets)\n",
    "conn.autocommit = True"
   ]
  },
  {
   "cell_type": "markdown",
   "metadata": {},
   "source": [
    "### 👥 User story I: Static Values\n",
    "> As a **data analyst**, I want to be able to retrieve a `list of patients` whose visit count is `above the 90th percentile`, so that I can identify the most active patients in the clinic. Additionally, I want this __percentile to be configurable__ for easy adjustment in the future.\n",
    "\n",
    "---\n",
    "\n",
    "Based on this user story, we will first create one that allows generating a query to retrieve the list of patients with a visit frequency above the 90th percentile."
   ]
  },
  {
   "cell_type": "markdown",
   "metadata": {},
   "source": [
    "1. In the sql file we have the query for the first user story\n",
    "\n",
    "    `db/queries/patients.sql`\n",
    "\n",
    "    ```sql\n",
    "    -- name: fn_get_patients_adove_90th_percentile\n",
    "    -- get all the patients that have more visits than the 90th percentile of visits. All this data is stored in encounters table.\n",
    "    WITH patient_visits AS (\n",
    "        SELECT\n",
    "            patient,\n",
    "            COUNT(*) AS visit_count\n",
    "        FROM\n",
    "            hospital.encounters\n",
    "        GROUP BY\n",
    "            patient\n",
    "    ),\n",
    "    percentil_n AS (\n",
    "        SELECT\n",
    "            percentile_cont(0.9) WITHIN GROUP (ORDER BY visit_count) AS p_visits\n",
    "        FROM\n",
    "            patient_visits\n",
    "    )\n",
    "    SELECT \n",
    "        pv.patient, \n",
    "        pv.visit_count\n",
    "    FROM \n",
    "        patient_visits pv\n",
    "    CROSS JOIN \n",
    "        percentil_n  pn\n",
    "    WHERE \n",
    "        pv.visit_count >= pn.p_visits;\n",
    "    ```"
   ]
  },
  {
   "cell_type": "markdown",
   "metadata": {},
   "source": [
    "2. Execute the 'fn_get_patients_above_90th_percentile' SQL function using the database connection 'conn'.\n",
    "    > The function returns a list of tuples representing patients whose visit count is above the 90th percentile."
   ]
  },
  {
   "cell_type": "code",
   "execution_count": null,
   "metadata": {},
   "outputs": [],
   "source": [
    "response = sql.fn_get_patients_above_90th_percentile(conn)"
   ]
  },
  {
   "cell_type": "markdown",
   "metadata": {},
   "source": [
    "3. Now we can convert the response object into a pandas DataFrame for easier data manipulation\n",
    "    > The column names ('patient_id' and 'num_visit') are added manually because aiosql only returns the query result as a list of tuples without column names.\n"
   ]
  },
  {
   "cell_type": "code",
   "execution_count": 181,
   "metadata": {},
   "outputs": [
    {
     "data": {
      "text/html": [
       "<div>\n",
       "<style scoped>\n",
       "    .dataframe tbody tr th:only-of-type {\n",
       "        vertical-align: middle;\n",
       "    }\n",
       "\n",
       "    .dataframe tbody tr th {\n",
       "        vertical-align: top;\n",
       "    }\n",
       "\n",
       "    .dataframe thead th {\n",
       "        text-align: right;\n",
       "    }\n",
       "</style>\n",
       "<table border=\"1\" class=\"dataframe\">\n",
       "  <thead>\n",
       "    <tr style=\"text-align: right;\">\n",
       "      <th></th>\n",
       "      <th>patient_id</th>\n",
       "      <th>num_visit</th>\n",
       "    </tr>\n",
       "  </thead>\n",
       "  <tbody>\n",
       "    <tr>\n",
       "      <th>0</th>\n",
       "      <td>8b9a93f6-3df3-203d-932f-f456e00d2c01</td>\n",
       "      <td>414</td>\n",
       "    </tr>\n",
       "    <tr>\n",
       "      <th>1</th>\n",
       "      <td>e0b86a58-ba53-3d16-0824-390f4507aaa6</td>\n",
       "      <td>115</td>\n",
       "    </tr>\n",
       "    <tr>\n",
       "      <th>2</th>\n",
       "      <td>ce00a1df-19ec-39db-e163-7022fdaf9103</td>\n",
       "      <td>87</td>\n",
       "    </tr>\n",
       "    <tr>\n",
       "      <th>3</th>\n",
       "      <td>e388a0a2-d98c-55f7-e010-9901916b1c41</td>\n",
       "      <td>123</td>\n",
       "    </tr>\n",
       "    <tr>\n",
       "      <th>4</th>\n",
       "      <td>6268d952-3a59-9bee-06ca-26740680f80a</td>\n",
       "      <td>401</td>\n",
       "    </tr>\n",
       "  </tbody>\n",
       "</table>\n",
       "</div>"
      ],
      "text/plain": [
       "                             patient_id  num_visit\n",
       "0  8b9a93f6-3df3-203d-932f-f456e00d2c01        414\n",
       "1  e0b86a58-ba53-3d16-0824-390f4507aaa6        115\n",
       "2  ce00a1df-19ec-39db-e163-7022fdaf9103         87\n",
       "3  e388a0a2-d98c-55f7-e010-9901916b1c41        123\n",
       "4  6268d952-3a59-9bee-06ca-26740680f80a        401"
      ]
     },
     "execution_count": 181,
     "metadata": {},
     "output_type": "execute_result"
    }
   ],
   "source": [
    "data = pd.DataFrame([item for item in response], columns=['patient_id', 'num_visit'])\n",
    "# Display the DataFrame.\n",
    "data"
   ]
  },
  {
   "cell_type": "markdown",
   "metadata": {},
   "source": [
    "  > if we want to see the query, we can use the following code"
   ]
  },
  {
   "cell_type": "code",
   "execution_count": 187,
   "metadata": {},
   "outputs": [
    {
     "name": "stdout",
     "output_type": "stream",
     "text": [
      "WITH patient_visits AS (\n",
      "SELECT\n",
      "patient,\n",
      "COUNT(*) AS visit_count\n",
      "FROM\n",
      "hospital.encounters\n",
      "GROUP BY\n",
      "patient\n",
      "),\n",
      "percentil_n AS (\n",
      "SELECT\n",
      "percentile_cont(0.9) WITHIN GROUP (ORDER BY visit_count) AS p_visits\n",
      "FROM\n",
      "patient_visits\n",
      ")\n",
      "SELECT\n",
      "pv.patient,\n",
      "pv.visit_count\n",
      "FROM\n",
      "patient_visits pv\n",
      "CROSS JOIN\n",
      "percentil_n  pn\n",
      "WHERE\n",
      "pv.visit_count >= pn.p_visits;\n"
     ]
    }
   ],
   "source": [
    "print(sql.fn_get_patients_adove_90th_percentile.sql)"
   ]
  },
  {
   "cell_type": "markdown",
   "metadata": {},
   "source": [
    "### 👥 User story I: Dynamic Values\n",
    "> As a **data analyst**, I want to be able to retrieve a `list of patients` whose visit count is above the 90th percentile, so that I can identify the most active patients in the clinic. Additionally, `I want this percentile to be configurable` for easy adjustment in the future.\n",
    "\n",
    "\n",
    "---\n",
    "\n",
    "Now, we are going to create another query that allows us to accept different percentile values so that the query can be dynamically modified based on the values passed. In our case, we are going to provide an example of obtaining the list of patients that exceed the 75th percentile.\n",
    "\n",
    "> Notice that we now have a dynamic variable called **percentile_value**\n",
    "\n",
    " ```sql\n",
    "    \n",
    "    -- name: fn_get_patients_above_n_percentile\n",
    "    -- This query retrieves all patients whose visit count exceeds the nth percentile of all visit counts \n",
    "    WITH patient_visits AS (\n",
    "        SELECT\n",
    "            patient,\n",
    "            COUNT(*) AS visit_count\n",
    "        FROM\n",
    "            hospital.encounters\n",
    "        GROUP BY\n",
    "            patient\n",
    "    ),\n",
    "    percentil_n AS (\n",
    "        SELECT\n",
    "            percentile_cont(:percentil_value) WITHIN GROUP (ORDER BY visit_count) AS p_visits\n",
    "        FROM\n",
    "            patient_visits\n",
    "    )\n",
    "    SELECT \n",
    "        pv.patient, \n",
    "        pv.visit_count\n",
    "    FROM \n",
    "        patient_visits pv\n",
    "    CROSS JOIN \n",
    "        percentil_n  pn\n",
    "    WHERE \n",
    "        pv.visit_count >= pn.p_visits;\n",
    "```\n"
   ]
  },
  {
   "cell_type": "markdown",
   "metadata": {},
   "source": [
    "1. This following code executes a dynamic SQL query that accepts different percentile values as input."
   ]
  },
  {
   "cell_type": "code",
   "execution_count": 197,
   "metadata": {},
   "outputs": [
    {
     "data": {
      "text/html": [
       "<div>\n",
       "<style scoped>\n",
       "    .dataframe tbody tr th:only-of-type {\n",
       "        vertical-align: middle;\n",
       "    }\n",
       "\n",
       "    .dataframe tbody tr th {\n",
       "        vertical-align: top;\n",
       "    }\n",
       "\n",
       "    .dataframe thead th {\n",
       "        text-align: right;\n",
       "    }\n",
       "</style>\n",
       "<table border=\"1\" class=\"dataframe\">\n",
       "  <thead>\n",
       "    <tr style=\"text-align: right;\">\n",
       "      <th></th>\n",
       "      <th>patient_id</th>\n",
       "      <th>num_visit</th>\n",
       "    </tr>\n",
       "  </thead>\n",
       "  <tbody>\n",
       "    <tr>\n",
       "      <th>0</th>\n",
       "      <td>8b9a93f6-3df3-203d-932f-f456e00d2c01</td>\n",
       "      <td>414</td>\n",
       "    </tr>\n",
       "    <tr>\n",
       "      <th>1</th>\n",
       "      <td>dbb11a89-9cb5-044e-f27d-3985b6bddcca</td>\n",
       "      <td>71</td>\n",
       "    </tr>\n",
       "    <tr>\n",
       "      <th>2</th>\n",
       "      <td>46cd115f-10aa-7613-18ff-ca767df60987</td>\n",
       "      <td>73</td>\n",
       "    </tr>\n",
       "    <tr>\n",
       "      <th>3</th>\n",
       "      <td>3ff2f362-af28-9555-1f8e-71d1a60b7289</td>\n",
       "      <td>86</td>\n",
       "    </tr>\n",
       "    <tr>\n",
       "      <th>4</th>\n",
       "      <td>91356f3d-7765-7eac-25ef-6ead6b408811</td>\n",
       "      <td>55</td>\n",
       "    </tr>\n",
       "    <tr>\n",
       "      <th>5</th>\n",
       "      <td>6f421a1a-ad37-b024-0f04-72eb9f786ee4</td>\n",
       "      <td>64</td>\n",
       "    </tr>\n",
       "    <tr>\n",
       "      <th>6</th>\n",
       "      <td>caa8478c-17ea-7c64-553c-16ad56f4a45f</td>\n",
       "      <td>54</td>\n",
       "    </tr>\n",
       "    <tr>\n",
       "      <th>7</th>\n",
       "      <td>e0b86a58-ba53-3d16-0824-390f4507aaa6</td>\n",
       "      <td>115</td>\n",
       "    </tr>\n",
       "    <tr>\n",
       "      <th>8</th>\n",
       "      <td>ce00a1df-19ec-39db-e163-7022fdaf9103</td>\n",
       "      <td>87</td>\n",
       "    </tr>\n",
       "    <tr>\n",
       "      <th>9</th>\n",
       "      <td>e388a0a2-d98c-55f7-e010-9901916b1c41</td>\n",
       "      <td>123</td>\n",
       "    </tr>\n",
       "    <tr>\n",
       "      <th>10</th>\n",
       "      <td>d6ae56ff-f3f3-7bbd-f0de-89008cc7eb02</td>\n",
       "      <td>54</td>\n",
       "    </tr>\n",
       "    <tr>\n",
       "      <th>11</th>\n",
       "      <td>6268d952-3a59-9bee-06ca-26740680f80a</td>\n",
       "      <td>401</td>\n",
       "    </tr>\n",
       "  </tbody>\n",
       "</table>\n",
       "</div>"
      ],
      "text/plain": [
       "                              patient_id  num_visit\n",
       "0   8b9a93f6-3df3-203d-932f-f456e00d2c01        414\n",
       "1   dbb11a89-9cb5-044e-f27d-3985b6bddcca         71\n",
       "2   46cd115f-10aa-7613-18ff-ca767df60987         73\n",
       "3   3ff2f362-af28-9555-1f8e-71d1a60b7289         86\n",
       "4   91356f3d-7765-7eac-25ef-6ead6b408811         55\n",
       "5   6f421a1a-ad37-b024-0f04-72eb9f786ee4         64\n",
       "6   caa8478c-17ea-7c64-553c-16ad56f4a45f         54\n",
       "7   e0b86a58-ba53-3d16-0824-390f4507aaa6        115\n",
       "8   ce00a1df-19ec-39db-e163-7022fdaf9103         87\n",
       "9   e388a0a2-d98c-55f7-e010-9901916b1c41        123\n",
       "10  d6ae56ff-f3f3-7bbd-f0de-89008cc7eb02         54\n",
       "11  6268d952-3a59-9bee-06ca-26740680f80a        401"
      ]
     },
     "execution_count": 197,
     "metadata": {},
     "output_type": "execute_result"
    }
   ],
   "source": [
    "# In this case, we're getting patients above the 75th percentile.\n",
    "response = sql.fn_get_patients_above_n_percentile(conn, percentil_value=0.75)\n",
    "data = pd.DataFrame([item for item in response], columns=['patient_id', 'num_visit'])\n",
    "\n",
    "data\n"
   ]
  },
  {
   "cell_type": "markdown",
   "metadata": {},
   "source": [
    "### Other operations"
   ]
  },
  {
   "cell_type": "markdown",
   "metadata": {},
   "source": [
    "1. To determine the type of SQL operation performed by the 'fn_get_patients_above_n_percentile' function\n",
    "    > we can access the 'operation' attribute of the function and then its 'name' attribute, and this will return the name of the SQL operation (e.g., 'select', 'insert', 'update', 'delete')."
   ]
  },
  {
   "cell_type": "code",
   "execution_count": 203,
   "metadata": {},
   "outputs": [
    {
     "data": {
      "text/plain": [
       "'SELECT'"
      ]
     },
     "execution_count": 203,
     "metadata": {},
     "output_type": "execute_result"
    }
   ],
   "source": [
    "sql.fn_get_patients_above_n_percentile.operation.name"
   ]
  },
  {
   "cell_type": "markdown",
   "metadata": {},
   "source": [
    "2. To access the documentation (docstring) of the 'fn_get_patients_above_n_percentile' SQL function"
   ]
  },
  {
   "cell_type": "code",
   "execution_count": 205,
   "metadata": {},
   "outputs": [
    {
     "data": {
      "text/plain": [
       "'This query retrieves all patients whose visit count exceeds the nth percentile of all visit counts'"
      ]
     },
     "execution_count": 205,
     "metadata": {},
     "output_type": "execute_result"
    }
   ],
   "source": [
    "sql.fn_get_patients_above_n_percentile.__doc__"
   ]
  },
  {
   "cell_type": "markdown",
   "metadata": {},
   "source": [
    "3. By using the **'?'** command, we can access detailed information about the `'fn_get_patients_above_n_percentile'` function. This includes its parameters (in this case, `'percentile_value'`), its docstring, and the file path where it's defined."
   ]
  },
  {
   "cell_type": "code",
   "execution_count": 206,
   "metadata": {},
   "outputs": [
    {
     "name": "stdout",
     "output_type": "stream",
     "text": [
      "\u001b[0;31mSignature:\u001b[0m \u001b[0msql\u001b[0m\u001b[0;34m.\u001b[0m\u001b[0mfn_get_patients_above_n_percentile\u001b[0m\u001b[0;34m(\u001b[0m\u001b[0;34m*\u001b[0m\u001b[0;34m,\u001b[0m \u001b[0mpercentil_value\u001b[0m\u001b[0;34m)\u001b[0m\u001b[0;34m\u001b[0m\u001b[0;34m\u001b[0m\u001b[0m\n",
      "\u001b[0;31mDocstring:\u001b[0m This query retrieves all patients whose visit count exceeds the nth percentile of all visit counts\n",
      "\u001b[0;31mFile:\u001b[0m      ~/Desktop/romi/Personal/blog/github/publications/aiosql/postgres/src/db/queries/patients.sql\n",
      "\u001b[0;31mType:\u001b[0m      method\n"
     ]
    }
   ],
   "source": [
    "?sql.fn_get_patients_above_n_percentile"
   ]
  },
  {
   "cell_type": "markdown",
   "metadata": {},
   "source": [
    "### 👥 User stories II\n",
    "\n",
    "> As a **researcher or data analyst**, I want to access the data of patients who have been diagnosed with the 10 most frequent diagnoses in a period of time, in order to analyze trends and improve the quality of medical care.\n",
    "\n",
    "---\n",
    "\n",
    "To resolve this user story, we will create a query that retrieves patients with the most common conditions within a specified time period. This query will be dynamic, allowing for future variations in the number of conditions of interest. \n",
    "It will accept three parameters: \n",
    "- **'num_condition'** will allow us to limit the number of conditions we're interested in (e.g., the top 10 most common conditions).\n",
    "- **'period_start_date'** and **'period_start_end'** will define the time window for which we want to retrieve data.\n",
    "\n",
    "```sql\n",
    "-- name: fn_get_patients_top_conditions\n",
    "-- Get patients with top conditions for a given period of time, the patients are sorted by the number of days they had the condition and the source of the data is the hospital schema.\n",
    "with top_n_conditions as(\n",
    "SELECT  code, description, COUNT(*) \n",
    "     FROM hospital.CONDITIONS \n",
    "     GROUP BY  code,description \n",
    "     ORDER BY COUNT(*) DESC \n",
    "     LIMIT  :num_condition\n",
    "),\n",
    "top_n_condition_patients as (\n",
    "SELECT \n",
    "    p.ID, \n",
    "    p.FIRST, \n",
    "    p.LAST, \n",
    "    p.CITY, \n",
    "    p.GENDER, \n",
    "    EXTRACT(YEAR FROM AGE(p.BIRTHDATE)) AS age,\n",
    "    c.start condition_start_date,\n",
    "    c.stop condition_stop_date,\n",
    "    EXTRACT(DAY FROM (c.stop - c.start )) AS condition_days, \n",
    "    c.encounter,\n",
    "    c.code,\n",
    "    c.description\n",
    "    from hospital.patients p \n",
    "    inner join hospital.conditions c  on c.patient = p.id\n",
    "    inner join top_n_conditions t on t.code=c.code\n",
    ")\n",
    "select * \n",
    "    from top_n_condition_patients\n",
    "    where condition_start_date between :period_start_date and :period_start_end;\n",
    "```\n"
   ]
  },
  {
   "cell_type": "code",
   "execution_count": 212,
   "metadata": {},
   "outputs": [
    {
     "data": {
      "text/html": [
       "<div>\n",
       "<style scoped>\n",
       "    .dataframe tbody tr th:only-of-type {\n",
       "        vertical-align: middle;\n",
       "    }\n",
       "\n",
       "    .dataframe tbody tr th {\n",
       "        vertical-align: top;\n",
       "    }\n",
       "\n",
       "    .dataframe thead th {\n",
       "        text-align: right;\n",
       "    }\n",
       "</style>\n",
       "<table border=\"1\" class=\"dataframe\">\n",
       "  <thead>\n",
       "    <tr style=\"text-align: right;\">\n",
       "      <th></th>\n",
       "      <th>id</th>\n",
       "      <th>first</th>\n",
       "      <th>last</th>\n",
       "      <th>city</th>\n",
       "      <th>gender</th>\n",
       "      <th>age</th>\n",
       "      <th>condition_start_date</th>\n",
       "      <th>condition_stop_date</th>\n",
       "      <th>condition_days</th>\n",
       "      <th>encounter</th>\n",
       "      <th>code</th>\n",
       "      <th>description</th>\n",
       "    </tr>\n",
       "  </thead>\n",
       "  <tbody>\n",
       "    <tr>\n",
       "      <th>0</th>\n",
       "      <td>3206f7cc-bc9a-b870-da96-718e67ef99c0</td>\n",
       "      <td>Morgan564</td>\n",
       "      <td>Feil794</td>\n",
       "      <td>Waltham</td>\n",
       "      <td>M</td>\n",
       "      <td>59</td>\n",
       "      <td>2022-01-07</td>\n",
       "      <td>2022-01-07</td>\n",
       "      <td>0</td>\n",
       "      <td>de679f99-b5bf-14ea-c3c4-bff41ec8846a</td>\n",
       "      <td>314529007</td>\n",
       "      <td>Medication review due (situation)</td>\n",
       "    </tr>\n",
       "    <tr>\n",
       "      <th>1</th>\n",
       "      <td>fcef92a1-6fbd-ec7f-0fa7-ac3650e79e00</td>\n",
       "      <td>Dannie881</td>\n",
       "      <td>Wolf938</td>\n",
       "      <td>Canton</td>\n",
       "      <td>M</td>\n",
       "      <td>12</td>\n",
       "      <td>2022-06-12</td>\n",
       "      <td>2023-11-05</td>\n",
       "      <td>511</td>\n",
       "      <td>d27619e2-5f1f-928b-7a58-c7c775841078</td>\n",
       "      <td>314529007</td>\n",
       "      <td>Medication review due (situation)</td>\n",
       "    </tr>\n",
       "    <tr>\n",
       "      <th>2</th>\n",
       "      <td>b3211cb0-c34b-eb9c-23b6-58726ad437ec</td>\n",
       "      <td>Alphonso102</td>\n",
       "      <td>Dicki44</td>\n",
       "      <td>Walpole</td>\n",
       "      <td>M</td>\n",
       "      <td>61</td>\n",
       "      <td>2022-06-16</td>\n",
       "      <td>2023-06-15</td>\n",
       "      <td>364</td>\n",
       "      <td>d6602a0a-67a0-3a0a-2c4e-bce9598ca221</td>\n",
       "      <td>314529007</td>\n",
       "      <td>Medication review due (situation)</td>\n",
       "    </tr>\n",
       "    <tr>\n",
       "      <th>3</th>\n",
       "      <td>b3211cb0-c34b-eb9c-23b6-58726ad437ec</td>\n",
       "      <td>Alphonso102</td>\n",
       "      <td>Dicki44</td>\n",
       "      <td>Walpole</td>\n",
       "      <td>M</td>\n",
       "      <td>61</td>\n",
       "      <td>2022-06-16</td>\n",
       "      <td>2023-06-15</td>\n",
       "      <td>364</td>\n",
       "      <td>d6602a0a-67a0-3a0a-2c4e-bce9598ca221</td>\n",
       "      <td>160903007</td>\n",
       "      <td>Full-time employment (finding)</td>\n",
       "    </tr>\n",
       "    <tr>\n",
       "      <th>4</th>\n",
       "      <td>baed88fc-8726-ee3a-47bd-b67d38c63df5</td>\n",
       "      <td>Vince741</td>\n",
       "      <td>Stamm704</td>\n",
       "      <td>Dalton</td>\n",
       "      <td>M</td>\n",
       "      <td>68</td>\n",
       "      <td>2022-03-28</td>\n",
       "      <td>2022-09-26</td>\n",
       "      <td>182</td>\n",
       "      <td>393eb61e-8a9a-e26c-26e2-34531b1affc5</td>\n",
       "      <td>160903007</td>\n",
       "      <td>Full-time employment (finding)</td>\n",
       "    </tr>\n",
       "  </tbody>\n",
       "</table>\n",
       "</div>"
      ],
      "text/plain": [
       "                                     id        first      last     city  \\\n",
       "0  3206f7cc-bc9a-b870-da96-718e67ef99c0    Morgan564   Feil794  Waltham   \n",
       "1  fcef92a1-6fbd-ec7f-0fa7-ac3650e79e00    Dannie881   Wolf938   Canton   \n",
       "2  b3211cb0-c34b-eb9c-23b6-58726ad437ec  Alphonso102   Dicki44  Walpole   \n",
       "3  b3211cb0-c34b-eb9c-23b6-58726ad437ec  Alphonso102   Dicki44  Walpole   \n",
       "4  baed88fc-8726-ee3a-47bd-b67d38c63df5     Vince741  Stamm704   Dalton   \n",
       "\n",
       "  gender age condition_start_date condition_stop_date condition_days  \\\n",
       "0      M  59           2022-01-07          2022-01-07              0   \n",
       "1      M  12           2022-06-12          2023-11-05            511   \n",
       "2      M  61           2022-06-16          2023-06-15            364   \n",
       "3      M  61           2022-06-16          2023-06-15            364   \n",
       "4      M  68           2022-03-28          2022-09-26            182   \n",
       "\n",
       "                              encounter       code  \\\n",
       "0  de679f99-b5bf-14ea-c3c4-bff41ec8846a  314529007   \n",
       "1  d27619e2-5f1f-928b-7a58-c7c775841078  314529007   \n",
       "2  d6602a0a-67a0-3a0a-2c4e-bce9598ca221  314529007   \n",
       "3  d6602a0a-67a0-3a0a-2c4e-bce9598ca221  160903007   \n",
       "4  393eb61e-8a9a-e26c-26e2-34531b1affc5  160903007   \n",
       "\n",
       "                         description  \n",
       "0  Medication review due (situation)  \n",
       "1  Medication review due (situation)  \n",
       "2  Medication review due (situation)  \n",
       "3     Full-time employment (finding)  \n",
       "4     Full-time employment (finding)  "
      ]
     },
     "execution_count": 212,
     "metadata": {},
     "output_type": "execute_result"
    }
   ],
   "source": [
    "response = sql.fn_get_patients_top_conditions(conn, num_condition_days=10, \n",
    "                                        period_start_date='2022-01-01', \n",
    "                                        period_start_end='2022-12-31')\n",
    "\n",
    "column_name=['id', 'first','last','city','gender',\n",
    "'age','condition_start_date','condition_stop_date','condition_days','encounter','code','description']\n",
    "\n",
    "data = pd.DataFrame([item for item in response], columns=column_name)\n",
    "data.head()\n"
   ]
  },
  {
   "cell_type": "markdown",
   "metadata": {},
   "source": [
    "### 👥 User story III\n",
    "As a **marketing analyst**, I want to create a table for patient satisfaction surveys, so that I can gather feedback on the quality of care and take measures to improve it.\n",
    "\n",
    "---\n",
    "\n",
    "Now we are going to create the table using aiosql, if you look at our code in SQL you will see that a # symbol is added, these symbols are used by aiosql to identify the different operations that must be performed.\n",
    "\n",
    "```sql\n",
    "-- name: fn_create_survey_table#\n",
    "CREATE TABLE HOSPITAL.VISIT_SURVEY(\n",
    "    ID SERIAL PRIMARY KEY,\n",
    "    PATIENT_ID VARCHAR(50),\n",
    "    SURVEY_DATE TIMESTAMP,\n",
    "    RATING INT,\n",
    "    COMMENTS TEXT,\n",
    "    CREATED_AT TIMESTAMP DEFAULT CURRENT_TIMESTAMP\n",
    ");\n",
    "```\n",
    "\n",
    "<center>\n",
    "\n",
    "![aiosql](img/aiosql-2.png)\n",
    "\n",
    "</center>\n"
   ]
  },
  {
   "cell_type": "markdown",
   "metadata": {},
   "source": [
    "1. Execute the 'fn_create_survey_table' SQL function to create a new table in the database."
   ]
  },
  {
   "cell_type": "code",
   "execution_count": 224,
   "metadata": {},
   "outputs": [
    {
     "data": {
      "text/plain": [
       "'CREATE TABLE'"
      ]
     },
     "execution_count": 224,
     "metadata": {},
     "output_type": "execute_result"
    }
   ],
   "source": [
    "sql.fn_create_survey_table(conn)\n"
   ]
  },
  {
   "cell_type": "markdown",
   "metadata": {},
   "source": [
    "2. Once the table is created we are going to use the following insert statement to be able to insert a review of a patient\n",
    "\n",
    "```sql\n",
    "-- name: fn_add_one_visit_survey<!\n",
    "insert into HOSPITAL.VISIT_SURVEY(PATIENT_ID,SURVEY_DATE,RATING,COMMENTS) \n",
    "    values (:patient_id, :survey_date, :rating,:comments) returning ID;\n",
    "```\n",
    "\n",
    "---\n",
    "\n",
    "> **⚠️ Disclaimer**: During the coding of this tutorial, I used the insert statement without a return and encountered an error due to its absence. (The version of aiosql I am using is 10.1)\n",
    "This 'returning ID' allows us to retrieve the value assigned to the 'id' column within the 'hospital_visit_survey' table when the insert operation is performed.\n",
    "\n",
    "---"
   ]
  },
  {
   "cell_type": "code",
   "execution_count": 231,
   "metadata": {},
   "outputs": [
    {
     "data": {
      "text/plain": [
       "1"
      ]
     },
     "execution_count": 231,
     "metadata": {},
     "output_type": "execute_result"
    }
   ],
   "source": [
    "# Add a new visit survey record \n",
    "\n",
    "sql.fn_add_one_visit_survey(conn, \n",
    "                            patient_id='8b9a93f6-3df3-203d-932f-f456e00d2c01', \n",
    "                            survey_date='2022-01-01', \n",
    "                            rating=5,\n",
    "                            comments='This is a great hospital!' )\n"
   ]
  },
  {
   "cell_type": "markdown",
   "metadata": {},
   "source": [
    "Next we will be able to make a query and validate if the review was loaded into the table"
   ]
  },
  {
   "cell_type": "code",
   "execution_count": 235,
   "metadata": {},
   "outputs": [
    {
     "data": {
      "text/html": [
       "<div>\n",
       "<style scoped>\n",
       "    .dataframe tbody tr th:only-of-type {\n",
       "        vertical-align: middle;\n",
       "    }\n",
       "\n",
       "    .dataframe tbody tr th {\n",
       "        vertical-align: top;\n",
       "    }\n",
       "\n",
       "    .dataframe thead th {\n",
       "        text-align: right;\n",
       "    }\n",
       "</style>\n",
       "<table border=\"1\" class=\"dataframe\">\n",
       "  <thead>\n",
       "    <tr style=\"text-align: right;\">\n",
       "      <th></th>\n",
       "      <th>id</th>\n",
       "      <th>patient_id</th>\n",
       "      <th>survey_date</th>\n",
       "      <th>rating</th>\n",
       "      <th>comments</th>\n",
       "      <th>created_at</th>\n",
       "    </tr>\n",
       "  </thead>\n",
       "  <tbody>\n",
       "    <tr>\n",
       "      <th>0</th>\n",
       "      <td>1</td>\n",
       "      <td>8b9a93f6-3df3-203d-932f-f456e00d2c01</td>\n",
       "      <td>2022-01-01</td>\n",
       "      <td>5</td>\n",
       "      <td>This is a great hospital!</td>\n",
       "      <td>2024-05-19 20:54:52.813714</td>\n",
       "    </tr>\n",
       "  </tbody>\n",
       "</table>\n",
       "</div>"
      ],
      "text/plain": [
       "   id                            patient_id survey_date  rating  \\\n",
       "0   1  8b9a93f6-3df3-203d-932f-f456e00d2c01  2022-01-01       5   \n",
       "\n",
       "                    comments                 created_at  \n",
       "0  This is a great hospital! 2024-05-19 20:54:52.813714  "
      ]
     },
     "execution_count": 235,
     "metadata": {},
     "output_type": "execute_result"
    }
   ],
   "source": [
    "response = sql.fn_get_visit_survey(conn)\n",
    "column_name=['id','patient_id', 'survey_date','rating','comments','created_at']\n",
    "data = pd.DataFrame([item for item in response], columns=column_name)\n",
    "data.head()\n"
   ]
  },
  {
   "cell_type": "markdown",
   "metadata": {},
   "source": [
    "3. Now we will utilize a new insert statement to load multiple reviews, which are stored in a list of dictionaries (each dictionary in Python corresponds to a review). To accomplish this, we will employ a similar query but we need to modify its name\n",
    "\n",
    "```sql\n",
    "    -- name: fn_add_many_visit_survey*!\n",
    "    insert into HOSPITAL.VISIT_SURVEY(PATIENT_ID,SURVEY_DATE,RATING,COMMENTS) \n",
    "        values (:patient_id, :survey_date, :rating ,:comments) returning ID;\n",
    "```"
   ]
  },
  {
   "cell_type": "code",
   "execution_count": 237,
   "metadata": {},
   "outputs": [
    {
     "data": {
      "text/plain": [
       "3"
      ]
     },
     "execution_count": 237,
     "metadata": {},
     "output_type": "execute_result"
    }
   ],
   "source": [
    "# Add several visit survey records\n",
    "response_survey = [\n",
    "    {\n",
    "        'patient_id': '8b9a93f6-3df3-203d-932f-f456e00d2c01',\n",
    "        'survey_date': '2022-01-01',\n",
    "        'rating': 3,\n",
    "        'comments': 'The service was good. But the waiting time was a bit long.'\n",
    "    },\n",
    "    {\n",
    "        'patient_id': '7c8a93f6-4df3-203d-932f-f456e00d2c02',\n",
    "        'survey_date': '2022-02-01',\n",
    "        'rating': 4,\n",
    "        'comments': 'The staff was very helpful!'\n",
    "    },\n",
    "    {\n",
    "        'patient_id': '6b7a93f6-5ef3-203d-932f-f456e00d2c03',\n",
    "        'survey_date': '2022-03-01',\n",
    "        'rating': 3,\n",
    "        'comments': 'The waiting time was a bit long.'\n",
    "    }\n",
    "]\n",
    "\n",
    "\n",
    "sql.fn_add_many_visit_survey(conn, response_survey)"
   ]
  },
  {
   "cell_type": "code",
   "execution_count": 238,
   "metadata": {},
   "outputs": [
    {
     "data": {
      "text/html": [
       "<div>\n",
       "<style scoped>\n",
       "    .dataframe tbody tr th:only-of-type {\n",
       "        vertical-align: middle;\n",
       "    }\n",
       "\n",
       "    .dataframe tbody tr th {\n",
       "        vertical-align: top;\n",
       "    }\n",
       "\n",
       "    .dataframe thead th {\n",
       "        text-align: right;\n",
       "    }\n",
       "</style>\n",
       "<table border=\"1\" class=\"dataframe\">\n",
       "  <thead>\n",
       "    <tr style=\"text-align: right;\">\n",
       "      <th></th>\n",
       "      <th>id</th>\n",
       "      <th>patient_id</th>\n",
       "      <th>survey_date</th>\n",
       "      <th>rating</th>\n",
       "      <th>comments</th>\n",
       "      <th>created_at</th>\n",
       "    </tr>\n",
       "  </thead>\n",
       "  <tbody>\n",
       "    <tr>\n",
       "      <th>0</th>\n",
       "      <td>1</td>\n",
       "      <td>8b9a93f6-3df3-203d-932f-f456e00d2c01</td>\n",
       "      <td>2022-01-01</td>\n",
       "      <td>5</td>\n",
       "      <td>This is a great hospital!</td>\n",
       "      <td>2024-05-19 20:54:52.813714</td>\n",
       "    </tr>\n",
       "    <tr>\n",
       "      <th>1</th>\n",
       "      <td>2</td>\n",
       "      <td>8b9a93f6-3df3-203d-932f-f456e00d2c01</td>\n",
       "      <td>2022-01-01</td>\n",
       "      <td>3</td>\n",
       "      <td>The service was good. But the waiting time was...</td>\n",
       "      <td>2024-05-19 21:12:17.439324</td>\n",
       "    </tr>\n",
       "    <tr>\n",
       "      <th>2</th>\n",
       "      <td>3</td>\n",
       "      <td>7c8a93f6-4df3-203d-932f-f456e00d2c02</td>\n",
       "      <td>2022-02-01</td>\n",
       "      <td>4</td>\n",
       "      <td>The staff was very helpful!</td>\n",
       "      <td>2024-05-19 21:12:17.649318</td>\n",
       "    </tr>\n",
       "    <tr>\n",
       "      <th>3</th>\n",
       "      <td>4</td>\n",
       "      <td>6b7a93f6-5ef3-203d-932f-f456e00d2c03</td>\n",
       "      <td>2022-03-01</td>\n",
       "      <td>3</td>\n",
       "      <td>The waiting time was a bit long.</td>\n",
       "      <td>2024-05-19 21:12:17.678712</td>\n",
       "    </tr>\n",
       "  </tbody>\n",
       "</table>\n",
       "</div>"
      ],
      "text/plain": [
       "   id                            patient_id survey_date  rating  \\\n",
       "0   1  8b9a93f6-3df3-203d-932f-f456e00d2c01  2022-01-01       5   \n",
       "1   2  8b9a93f6-3df3-203d-932f-f456e00d2c01  2022-01-01       3   \n",
       "2   3  7c8a93f6-4df3-203d-932f-f456e00d2c02  2022-02-01       4   \n",
       "3   4  6b7a93f6-5ef3-203d-932f-f456e00d2c03  2022-03-01       3   \n",
       "\n",
       "                                            comments  \\\n",
       "0                          This is a great hospital!   \n",
       "1  The service was good. But the waiting time was...   \n",
       "2                        The staff was very helpful!   \n",
       "3                   The waiting time was a bit long.   \n",
       "\n",
       "                  created_at  \n",
       "0 2024-05-19 20:54:52.813714  \n",
       "1 2024-05-19 21:12:17.439324  \n",
       "2 2024-05-19 21:12:17.649318  \n",
       "3 2024-05-19 21:12:17.678712  "
      ]
     },
     "execution_count": 238,
     "metadata": {},
     "output_type": "execute_result"
    }
   ],
   "source": [
    "response = sql.fn_get_visit_survey(conn)\n",
    "column_name=['id','patient_id', 'survey_date','rating','comments','created_at']\n",
    "data = pd.DataFrame([item for item in response], columns=column_name)\n",
    "data.head()"
   ]
  },
  {
   "cell_type": "markdown",
   "metadata": {},
   "source": [
    "# Queries catalog of your project\n",
    "\n",
    "At the beginning of the tutorial, I mentioned the possibility of creating a query catalog for your project. While this functionality is not directly provided by this library, with the following Python code, you can create a dataframe containing the name of your queries, their operation, the code of your query, the docstring with its description, and the parameters that make your query dynamic."
   ]
  },
  {
   "cell_type": "code",
   "execution_count": 306,
   "metadata": {},
   "outputs": [],
   "source": [
    "def get_catalog_methods(sql) -> pd.DataFrame:\n",
    "    fn = [item for item in sql.available_queries if not item.endswith('_cursor')]\n",
    "    output = []\n",
    "\n",
    "    for item in fn:\n",
    "        query = getattr(sql, item)\n",
    "        operation = query.operation.name\n",
    "        query_sql = query.sql\n",
    "        description = query.__doc__\n",
    "        parameters = list(query.__signature__.parameters.keys())\n",
    "        output.append((item, operation, query_sql, description, parameters))\n",
    "\n",
    "    data = pd.DataFrame(output, columns=['function_name', 'operation', 'query', 'description', 'parameters'])\n",
    "    return data"
   ]
  },
  {
   "cell_type": "code",
   "execution_count": 307,
   "metadata": {},
   "outputs": [
    {
     "data": {
      "text/html": [
       "<div>\n",
       "<style scoped>\n",
       "    .dataframe tbody tr th:only-of-type {\n",
       "        vertical-align: middle;\n",
       "    }\n",
       "\n",
       "    .dataframe tbody tr th {\n",
       "        vertical-align: top;\n",
       "    }\n",
       "\n",
       "    .dataframe thead th {\n",
       "        text-align: right;\n",
       "    }\n",
       "</style>\n",
       "<table border=\"1\" class=\"dataframe\">\n",
       "  <thead>\n",
       "    <tr style=\"text-align: right;\">\n",
       "      <th></th>\n",
       "      <th>function_name</th>\n",
       "      <th>operation</th>\n",
       "      <th>query</th>\n",
       "      <th>description</th>\n",
       "      <th>parameters</th>\n",
       "    </tr>\n",
       "  </thead>\n",
       "  <tbody>\n",
       "    <tr>\n",
       "      <th>0</th>\n",
       "      <td>fn_add_many_visit_survey</td>\n",
       "      <td>INSERT_UPDATE_DELETE_MANY</td>\n",
       "      <td>insert into HOSPITAL.VISIT_SURVEY(PATIENT_ID,S...</td>\n",
       "      <td></td>\n",
       "      <td>[self, patient_id, survey_date, rating, comments]</td>\n",
       "    </tr>\n",
       "    <tr>\n",
       "      <th>1</th>\n",
       "      <td>fn_add_one_visit_survey</td>\n",
       "      <td>INSERT_RETURNING</td>\n",
       "      <td>insert into HOSPITAL.VISIT_SURVEY(PATIENT_ID,S...</td>\n",
       "      <td></td>\n",
       "      <td>[self, patient_id, survey_date, rating, comments]</td>\n",
       "    </tr>\n",
       "    <tr>\n",
       "      <th>2</th>\n",
       "      <td>fn_create_survey_table</td>\n",
       "      <td>SCRIPT</td>\n",
       "      <td>CREATE TABLE HOSPITAL.VISIT_SURVEY(\\nID SERIAL...</td>\n",
       "      <td></td>\n",
       "      <td>[self]</td>\n",
       "    </tr>\n",
       "    <tr>\n",
       "      <th>3</th>\n",
       "      <td>fn_get_patients_above_n_percentile</td>\n",
       "      <td>SELECT</td>\n",
       "      <td>WITH patient_visits AS (\\nSELECT\\npatient,\\nCO...</td>\n",
       "      <td>This query retrieves all patients whose visit ...</td>\n",
       "      <td>[self, percentil_value]</td>\n",
       "    </tr>\n",
       "    <tr>\n",
       "      <th>4</th>\n",
       "      <td>fn_get_patients_adove_90th_percentile</td>\n",
       "      <td>SELECT</td>\n",
       "      <td>WITH patient_visits AS (\\nSELECT\\npatient,\\nCO...</td>\n",
       "      <td>get all the patients that have more visits tha...</td>\n",
       "      <td>[self]</td>\n",
       "    </tr>\n",
       "    <tr>\n",
       "      <th>5</th>\n",
       "      <td>fn_get_patients_top_conditions</td>\n",
       "      <td>SELECT</td>\n",
       "      <td>with top_n_conditions as(\\nSELECT  code, descr...</td>\n",
       "      <td>Get patients with top conditions for a given p...</td>\n",
       "      <td>[self, num_condition_days, period_start_date, ...</td>\n",
       "    </tr>\n",
       "    <tr>\n",
       "      <th>6</th>\n",
       "      <td>fn_get_visit_survey</td>\n",
       "      <td>SELECT</td>\n",
       "      <td>SELECT * FROM HOSPITAL.VISIT_SURVEY;</td>\n",
       "      <td></td>\n",
       "      <td>[self]</td>\n",
       "    </tr>\n",
       "  </tbody>\n",
       "</table>\n",
       "</div>"
      ],
      "text/plain": [
       "                           function_name                  operation  \\\n",
       "0               fn_add_many_visit_survey  INSERT_UPDATE_DELETE_MANY   \n",
       "1                fn_add_one_visit_survey           INSERT_RETURNING   \n",
       "2                 fn_create_survey_table                     SCRIPT   \n",
       "3     fn_get_patients_above_n_percentile                     SELECT   \n",
       "4  fn_get_patients_adove_90th_percentile                     SELECT   \n",
       "5         fn_get_patients_top_conditions                     SELECT   \n",
       "6                    fn_get_visit_survey                     SELECT   \n",
       "\n",
       "                                               query  \\\n",
       "0  insert into HOSPITAL.VISIT_SURVEY(PATIENT_ID,S...   \n",
       "1  insert into HOSPITAL.VISIT_SURVEY(PATIENT_ID,S...   \n",
       "2  CREATE TABLE HOSPITAL.VISIT_SURVEY(\\nID SERIAL...   \n",
       "3  WITH patient_visits AS (\\nSELECT\\npatient,\\nCO...   \n",
       "4  WITH patient_visits AS (\\nSELECT\\npatient,\\nCO...   \n",
       "5  with top_n_conditions as(\\nSELECT  code, descr...   \n",
       "6               SELECT * FROM HOSPITAL.VISIT_SURVEY;   \n",
       "\n",
       "                                         description  \\\n",
       "0                                                      \n",
       "1                                                      \n",
       "2                                                      \n",
       "3  This query retrieves all patients whose visit ...   \n",
       "4  get all the patients that have more visits tha...   \n",
       "5  Get patients with top conditions for a given p...   \n",
       "6                                                      \n",
       "\n",
       "                                          parameters  \n",
       "0  [self, patient_id, survey_date, rating, comments]  \n",
       "1  [self, patient_id, survey_date, rating, comments]  \n",
       "2                                             [self]  \n",
       "3                            [self, percentil_value]  \n",
       "4                                             [self]  \n",
       "5  [self, num_condition_days, period_start_date, ...  \n",
       "6                                             [self]  "
      ]
     },
     "execution_count": 307,
     "metadata": {},
     "output_type": "execute_result"
    }
   ],
   "source": [
    "sql = aiosql.from_path('src/db/queries', 'psycopg2')\n",
    "get_catalog_methods(sql=sql)"
   ]
  }
 ],
 "metadata": {
  "kernelspec": {
   "display_name": "Python 3",
   "language": "python",
   "name": "python3"
  },
  "language_info": {
   "codemirror_mode": {
    "name": "ipython",
    "version": 3
   },
   "file_extension": ".py",
   "mimetype": "text/x-python",
   "name": "python",
   "nbconvert_exporter": "python",
   "pygments_lexer": "ipython3",
   "version": "3.11.6"
  }
 },
 "nbformat": 4,
 "nbformat_minor": 2
}
